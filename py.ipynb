{
  "nbformat": 4,
  "nbformat_minor": 0,
  "metadata": {
    "colab": {
      "name": "python.ipynb",
      "provenance": [],
      "authorship_tag": "ABX9TyNA2gGDA3fhgzY0F/SHrd/R",
      "include_colab_link": true
    },
    "kernelspec": {
      "name": "python3",
      "display_name": "Python 3"
    },
    "language_info": {
      "name": "python"
    }
  },
  "cells": [
    {
      "cell_type": "markdown",
      "metadata": {
        "id": "view-in-github",
        "colab_type": "text"
      },
      "source": [
        "<a href=\"https://colab.research.google.com/github/sandeeprairai/python-/blob/main/py.ipynb\" target=\"_parent\"><img src=\"https://colab.research.google.com/assets/colab-badge.svg\" alt=\"Open In Colab\"/></a>"
      ]
    },
    {
      "cell_type": "code",
      "execution_count": 3,
      "metadata": {
        "colab": {
          "base_uri": "https://localhost:8080/"
        },
        "id": "dFjhRUnMyuPu",
        "outputId": "f787b9bf-a82f-4e79-8b41-b5808134bd82"
      },
      "outputs": [
        {
          "output_type": "execute_result",
          "data": {
            "text/plain": [
              "array([1, 2, 3, 4])"
            ]
          },
          "metadata": {},
          "execution_count": 3
        }
      ],
      "source": [
        "import numpy as np\n",
        "first_numpy_array=np.array([1,2,3,4])\n",
        "first_numpy_array"
      ]
    },
    {
      "cell_type": "code",
      "source": [
        "#array with zeros\n",
        "array_with_zeros=np.zeros((3,3))\n",
        "array_with_zeros"
      ],
      "metadata": {
        "colab": {
          "base_uri": "https://localhost:8080/"
        },
        "id": "oiY-CAs7zL0X",
        "outputId": "83fd91c2-0482-48aa-e24f-2b3e9add7252"
      },
      "execution_count": 4,
      "outputs": [
        {
          "output_type": "execute_result",
          "data": {
            "text/plain": [
              "array([[0., 0., 0.],\n",
              "       [0., 0., 0.],\n",
              "       [0., 0., 0.]])"
            ]
          },
          "metadata": {},
          "execution_count": 4
        }
      ]
    },
    {
      "cell_type": "code",
      "source": [
        "#array with ones\n",
        "array_with_ones=np.ones((3,3))\n",
        "array_with_ones"
      ],
      "metadata": {
        "colab": {
          "base_uri": "https://localhost:8080/"
        },
        "id": "1ojHk2o-zYJs",
        "outputId": "35ff75a3-f1db-471d-a74e-95e7f5570824"
      },
      "execution_count": 5,
      "outputs": [
        {
          "output_type": "execute_result",
          "data": {
            "text/plain": [
              "array([[1., 1., 1.],\n",
              "       [1., 1., 1.],\n",
              "       [1., 1., 1.]])"
            ]
          },
          "metadata": {},
          "execution_count": 5
        }
      ]
    },
    {
      "cell_type": "code",
      "source": [
        "#array with empty\n",
        "array_with_empty=np.empty((2,3))\n",
        "array_with_empty"
      ],
      "metadata": {
        "colab": {
          "base_uri": "https://localhost:8080/"
        },
        "id": "_SuQ5_qTzsdw",
        "outputId": "82d01fcd-8763-4e7c-fec0-5a7041c97ffb"
      },
      "execution_count": 6,
      "outputs": [
        {
          "output_type": "execute_result",
          "data": {
            "text/plain": [
              "array([[1.799376e-316, 0.000000e+000, 0.000000e+000],\n",
              "       [0.000000e+000, 0.000000e+000, 0.000000e+000]])"
            ]
          },
          "metadata": {},
          "execution_count": 6
        }
      ]
    },
    {
      "cell_type": "code",
      "source": [
        "#array with arrange method\n",
        "np_arange=np.arange(12)\n",
        "np_arange"
      ],
      "metadata": {
        "colab": {
          "base_uri": "https://localhost:8080/"
        },
        "id": "WoCASNJ4z3sx",
        "outputId": "7e475e24-9d11-4143-d65d-bc2f2b3537e7"
      },
      "execution_count": 7,
      "outputs": [
        {
          "output_type": "execute_result",
          "data": {
            "text/plain": [
              "array([ 0,  1,  2,  3,  4,  5,  6,  7,  8,  9, 10, 11])"
            ]
          },
          "metadata": {},
          "execution_count": 7
        }
      ]
    },
    {
      "cell_type": "code",
      "source": [
        "#reshape the array\n",
        "np_arange.reshape(3,4)"
      ],
      "metadata": {
        "colab": {
          "base_uri": "https://localhost:8080/"
        },
        "id": "B2JNYJrv0D9w",
        "outputId": "e9e678ec-b2bf-41f3-e8bc-0b3fde87ea8c"
      },
      "execution_count": 8,
      "outputs": [
        {
          "output_type": "execute_result",
          "data": {
            "text/plain": [
              "array([[ 0,  1,  2,  3],\n",
              "       [ 4,  5,  6,  7],\n",
              "       [ 8,  9, 10, 11]])"
            ]
          },
          "metadata": {},
          "execution_count": 8
        }
      ]
    },
    {
      "cell_type": "code",
      "source": [
        "#Linespace for linearly(equal) spaced data elements\n",
        "np_linspace=np.linspace(1,6,5)\n",
        "np_linspace"
      ],
      "metadata": {
        "colab": {
          "base_uri": "https://localhost:8080/"
        },
        "id": "gfjQr6m00Noe",
        "outputId": "27e510e4-1f5a-4e95-8920-17a5236bbc1a"
      },
      "execution_count": 10,
      "outputs": [
        {
          "output_type": "execute_result",
          "data": {
            "text/plain": [
              "array([1.  , 2.25, 3.5 , 4.75, 6.  ])"
            ]
          },
          "metadata": {},
          "execution_count": 10
        }
      ]
    },
    {
      "cell_type": "code",
      "source": [
        "#One dimensional array\n",
        "oneD_array=np.arange(15)\n",
        "oneD_array"
      ],
      "metadata": {
        "colab": {
          "base_uri": "https://localhost:8080/"
        },
        "id": "3yHTTA5-0lVB",
        "outputId": "4d293198-481e-47e6-a499-a8db34006ede"
      },
      "execution_count": 11,
      "outputs": [
        {
          "output_type": "execute_result",
          "data": {
            "text/plain": [
              "array([ 0,  1,  2,  3,  4,  5,  6,  7,  8,  9, 10, 11, 12, 13, 14])"
            ]
          },
          "metadata": {},
          "execution_count": 11
        }
      ]
    },
    {
      "cell_type": "code",
      "source": [
        "#Two Dimensional Array\n",
        "TwoD_array=oneD_array.reshape(3,5)\n",
        "TwoD_array"
      ],
      "metadata": {
        "colab": {
          "base_uri": "https://localhost:8080/"
        },
        "id": "xdpC3XCO03jW",
        "outputId": "f9e6ae87-aff9-439a-91f7-abb0388d3250"
      },
      "execution_count": 12,
      "outputs": [
        {
          "output_type": "execute_result",
          "data": {
            "text/plain": [
              "array([[ 0,  1,  2,  3,  4],\n",
              "       [ 5,  6,  7,  8,  9],\n",
              "       [10, 11, 12, 13, 14]])"
            ]
          },
          "metadata": {},
          "execution_count": 12
        }
      ]
    },
    {
      "cell_type": "code",
      "source": [
        "ThreeD_array=np.arange(27).reshape(3,3,3)\n",
        "ThreeD_array"
      ],
      "metadata": {
        "colab": {
          "base_uri": "https://localhost:8080/"
        },
        "id": "cmgAqcoS1FEz",
        "outputId": "ea0365b3-01ac-4c24-fc21-d849b1d54492"
      },
      "execution_count": 13,
      "outputs": [
        {
          "output_type": "execute_result",
          "data": {
            "text/plain": [
              "array([[[ 0,  1,  2],\n",
              "        [ 3,  4,  5],\n",
              "        [ 6,  7,  8]],\n",
              "\n",
              "       [[ 9, 10, 11],\n",
              "        [12, 13, 14],\n",
              "        [15, 16, 17]],\n",
              "\n",
              "       [[18, 19, 20],\n",
              "        [21, 22, 23],\n",
              "        [24, 25, 26]]])"
            ]
          },
          "metadata": {},
          "execution_count": 13
        }
      ]
    },
    {
      "cell_type": "code",
      "source": [
        "#Pandas Library\n",
        "#1-Series\n",
        "import pandas as pd\n",
        "import numpy as np\n",
        "first_series=pd.Series(list('abcdef'))\n",
        "first_series"
      ],
      "metadata": {
        "colab": {
          "base_uri": "https://localhost:8080/"
        },
        "id": "QfcXoHfh1R3f",
        "outputId": "106a1cfe-7607-45c9-f74d-b4887ab94b81"
      },
      "execution_count": 15,
      "outputs": [
        {
          "output_type": "execute_result",
          "data": {
            "text/plain": [
              "0    a\n",
              "1    b\n",
              "2    c\n",
              "3    d\n",
              "4    e\n",
              "5    f\n",
              "dtype: object"
            ]
          },
          "metadata": {},
          "execution_count": 15
        }
      ]
    },
    {
      "cell_type": "code",
      "source": [
        "#Creating Series from ndarray\n",
        "np_country=np.array(['A','B','C','D','E','F','G','H','I','J','K'])\n",
        "s_country=pd.Series(np_country)\n",
        "s_country"
      ],
      "metadata": {
        "colab": {
          "base_uri": "https://localhost:8080/"
        },
        "id": "QDzwwcvo3INJ",
        "outputId": "047998c6-aad9-466d-ba4e-7266120be45a"
      },
      "execution_count": 17,
      "outputs": [
        {
          "output_type": "execute_result",
          "data": {
            "text/plain": [
              "0     A\n",
              "1     B\n",
              "2     C\n",
              "3     D\n",
              "4     E\n",
              "5     F\n",
              "6     G\n",
              "7     H\n",
              "8     I\n",
              "9     J\n",
              "10    K\n",
              "dtype: object"
            ]
          },
          "metadata": {},
          "execution_count": 17
        }
      ]
    },
    {
      "cell_type": "code",
      "source": [
        "#creating Series with dict data\n",
        "dict_country_gdp=pd.Series([10,12,23,45,36,78,89,90,85,64],index=['A','B','C','D','E','F','G','H','I','J'])\n",
        "dict_country_gdp"
      ],
      "metadata": {
        "colab": {
          "base_uri": "https://localhost:8080/"
        },
        "id": "keKziX-333Ej",
        "outputId": "44b05f07-a949-45da-c5dc-e2ae6d0adfe7"
      },
      "execution_count": 18,
      "outputs": [
        {
          "output_type": "execute_result",
          "data": {
            "text/plain": [
              "A    10\n",
              "B    12\n",
              "C    23\n",
              "D    45\n",
              "E    36\n",
              "F    78\n",
              "G    89\n",
              "H    90\n",
              "I    85\n",
              "J    64\n",
              "dtype: int64"
            ]
          },
          "metadata": {},
          "execution_count": 18
        }
      ]
    },
    {
      "cell_type": "code",
      "source": [
        "#Print Series with scalar \n",
        "scalar_seies=pd.Series(5,index=['a','b','c','d','e'])\n",
        "scalar_seies"
      ],
      "metadata": {
        "colab": {
          "base_uri": "https://localhost:8080/"
        },
        "id": "GyxT4zgW4zIX",
        "outputId": "574410dd-2392-41f3-8b4e-075940087535"
      },
      "execution_count": 19,
      "outputs": [
        {
          "output_type": "execute_result",
          "data": {
            "text/plain": [
              "a    5\n",
              "b    5\n",
              "c    5\n",
              "d    5\n",
              "e    5\n",
              "dtype: int64"
            ]
          },
          "metadata": {},
          "execution_count": 19
        }
      ]
    },
    {
      "cell_type": "code",
      "source": [
        "dict_country_gdp[0]\n",
        "dict_country_gdp[0:5]\n",
        "dict_country_gdp.loc['C']\n",
        "dict_country_gdp[0]"
      ],
      "metadata": {
        "colab": {
          "base_uri": "https://localhost:8080/"
        },
        "id": "YmTWVk2Y5N0O",
        "outputId": "8a88e5b4-ec75-4666-b706-3fe17165f70d"
      },
      "execution_count": 24,
      "outputs": [
        {
          "output_type": "execute_result",
          "data": {
            "text/plain": [
              "10"
            ]
          },
          "metadata": {},
          "execution_count": 24
        }
      ]
    },
    {
      "cell_type": "code",
      "source": [
        "first_vector_series=pd.Series([1,2,3,4],index=['a','b','c','d'])\n",
        "second_vector_series=pd.Series([10,20,30,40],index=['a','b','c','d'])\n",
        "first_vector_series+second_vector_series"
      ],
      "metadata": {
        "colab": {
          "base_uri": "https://localhost:8080/"
        },
        "id": "4v02NSXd5To8",
        "outputId": "6595d4a0-14fa-4966-e537-95bafff7db0c"
      },
      "execution_count": 25,
      "outputs": [
        {
          "output_type": "execute_result",
          "data": {
            "text/plain": [
              "a    11\n",
              "b    22\n",
              "c    33\n",
              "d    44\n",
              "dtype: int64"
            ]
          },
          "metadata": {},
          "execution_count": 25
        }
      ]
    },
    {
      "cell_type": "code",
      "source": [
        ""
      ],
      "metadata": {
        "id": "ry--M8n-6YdX"
      },
      "execution_count": null,
      "outputs": []
    }
  ]
}